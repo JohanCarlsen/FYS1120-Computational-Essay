{
 "cells": [
  {
   "cell_type": "markdown",
   "metadata": {},
   "source": [
    "# Er det mulig å skyte et legeme i bane rundt jorda, med en railgun? Og hva skal til for å få det til?"
   ]
  },
  {
   "cell_type": "markdown",
   "metadata": {},
   "source": [
    "### Introduksjon: Hvordan fungerer en railgun?"
   ]
  },
  {
   "cell_type": "markdown",
   "metadata": {},
   "source": [
    "En railgun er en elektrisk kanon som akselererer et prosjektil til veldig store hastigheter ved hjelp av et magnetfelt og elektrisk strøm. Railgun-en fungerer ved at to parallelle ledende skinner er koblet til en spenningskilde. Skinnene er igjen koblet sammen med en ledende bro som kan bevege seg normalt mellom de to skinnene. Strømmen går fra spenningskilden, gjennom den ene skinna, gjennom broen videre gjennom den andre skinna og tilbake til spenningskilden igjen."
   ]
  },
  {
   "cell_type": "markdown",
   "metadata": {},
   "source": [
    "# Fig 1 ill. av systemet"
   ]
  },
  {
   "cell_type": "markdown",
   "metadata": {},
   "source": [
    "Strøm, eller ladninger i bevegelse, skaper et magnetfelt. Dette feltet er høyrehåndsorientert, som vist i Figur 1. Krafta som virker på broen kommer fra retningen strømmen beveger seg i og magnetfeltets retning. Fra Figur 1 kan vi se at krafta virker vinkelrett på både strømmens retning og magnetfeltet. Denne krafta vil akselerere broen langs skinnene, og det er dette vi skal bruke for å prøve å skyte et legeme i bane rundt jorda. "
   ]
  },
  {
   "cell_type": "markdown",
   "metadata": {},
   "source": [
    "### Problemstilling"
   ]
  },
  {
   "cell_type": "markdown",
   "metadata": {},
   "source": [
    "Det første vi skal se på er hvordan en railgun fungerer, og hvilke hastigheter vi kan få legemer med ulike masser til å oppnå. Videre skal vi utforske hvilke størrelser som skal til for å få et legeme i bane rundt jorda. Her kommer det til å bli gjort forenklinger, blandt annet å se bort fra luftmotstand. Hvorfor kommer vi tilbake til senere. Deretter vil et nytt spørsmål melde seg: hvor stor avstand trenger vi å ha mellom skinnene, for å unngå dielektrisk gjennombrudd av strøm i lufta mellom skinnene? "
   ]
  },
  {
   "cell_type": "markdown",
   "metadata": {},
   "source": [
    "#### Railgun"
   ]
  },
  {
   "cell_type": "markdown",
   "metadata": {},
   "source": [
    "Krafta på broen er gitt ved \n",
    "\n",
    "$$\\vec{F}_b=q\\vec{v}\\times\\vec{B}$$\n",
    "\n",
    "hvor $\\vec{B}$ er det samlede magnetfeltet fra de to skinnene, som vi kan anse som uendelig lange ledninger, dersom skinnene er veldig lange. Feltet fra *en* leder er gitt ved Ampéres lov\n",
    "\n",
    "$$\\oint_C\\vec{B}\\,d\\vec{l}=\\mu_0I_S$$\n",
    "\n",
    "Fra en symmetribetraktning ser vi at $\\vec{B}$-feltet kun kan ha en komponent i $\\hat{\\theta}$-retning, som må være avhengig av $r$. Det gir\n",
    "\n",
    "$$\\oint_CB_\\theta(r)d\\vec{l}=\\mu_0I_S\\\\\n",
    "B_\\theta(r)=\\frac{\\mu_0I_S}{2\\pi r}$$"
   ]
  },
  {
   "cell_type": "markdown",
   "metadata": {},
   "source": [
    "hvor $C$ er den lukkede kurven som omslutter lederen og $I_S$ er strømmen på overflaten."
   ]
  },
  {
   "cell_type": "markdown",
   "metadata": {},
   "source": [
    "Det neste steget er å undersøke hvilke krefter som virker på broen. Vi starter med å definere noen størrelser."
   ]
  },
  {
   "cell_type": "code",
   "execution_count": 1,
   "metadata": {},
   "outputs": [],
   "source": [
    "D = .15 # separation of the rails [m]\n",
    "w = 0.1 # rail width [m]\n",
    "L = 10 # rail length [m]\n",
    "m = 1 # mass [kg]\n",
    "I = 10000 # current [Amps]\n",
    "\n",
    "dt= .00001 # timestep [s]\n",
    "t=0 # [s]"
   ]
  },
  {
   "cell_type": "markdown",
   "metadata": {},
   "source": [
    "Disse størrelsene er hentet fra [marinedepartementet](https://ndiastorage.blob.core.usgovcloudapi.net/ndia/2003/gun/ellis.pdf) i Amerika, hvor de har eksprimentert med railgun-er."
   ]
  },
  {
   "cell_type": "code",
   "execution_count": null,
   "metadata": {},
   "outputs": [],
   "source": []
  }
 ],
 "metadata": {
  "kernelspec": {
   "display_name": "Python 3",
   "language": "python",
   "name": "python3"
  },
  "language_info": {
   "codemirror_mode": {
    "name": "ipython",
    "version": 3
   },
   "file_extension": ".py",
   "mimetype": "text/x-python",
   "name": "python",
   "nbconvert_exporter": "python",
   "pygments_lexer": "ipython3",
   "version": "3.8.3"
  }
 },
 "nbformat": 4,
 "nbformat_minor": 4
}
