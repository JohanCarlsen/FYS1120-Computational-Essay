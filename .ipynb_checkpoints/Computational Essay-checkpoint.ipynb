{
 "cells": [
  {
   "cell_type": "markdown",
   "metadata": {},
   "source": [
    "# Er det mulig å skyte et legeme i bane rundt jorda med en railgun? Og hva skal til for å få det til?"
   ]
  },
  {
   "cell_type": "markdown",
   "metadata": {},
   "source": [
    "### Introduksjon: Hvordan fungerer en railgun?"
   ]
  },
  {
   "cell_type": "markdown",
   "metadata": {},
   "source": [
    "En railgun er en elektrisk kanon som akselererer et prosjektil til veldig store hastigheter ved hjelp av et magnetfelt og elektrisk strøm. Railgun-en fungerer ved at to parallelle ledende skinner er koblet til en spenningskilde. Skinnene er igjen koblet sammen med en ledende bro som kan bevege seg normalt mellom de to skinnene. Strømmen går fra spenningskilden, gjennom den ene skinna, gjennom broen videre gjennom den andre skinna og tilbake til spenningskilden igjen."
   ]
  },
  {
   "cell_type": "markdown",
   "metadata": {},
   "source": [
    "<figure>\n",
    "        <img src=\"figure_railgun.png\" style=\"width:75%\">\n",
    "    <center><figcaption> <b>Figur 1. Illustrasjon av en railgun.</b></figcaption></center>\n",
    "</figure>"
   ]
  },
  {
   "cell_type": "markdown",
   "metadata": {},
   "source": [
    "Strøm, eller ladninger i bevegelse, skaper et magnetfelt. Dette feltet er høyrehåndsorientert, som vist i Figur 1. Krafta som virker på broen kommer fra retningen strømmen beveger seg i og magnetfeltets retning. Fra Figur 1 kan vi se at krafta virker vinkelrett på både strømmens retning og magnetfeltet. Denne krafta vil akselerere broen langs skinnene, og det er dette vi skal bruke for å prøve å skyte et legeme i bane rundt jorda. "
   ]
  },
  {
   "cell_type": "markdown",
   "metadata": {},
   "source": [
    "### Problemstilling"
   ]
  },
  {
   "cell_type": "markdown",
   "metadata": {},
   "source": [
    "Det første vi skal se på er hvordan en railgun fungerer, og hvilke hastigheter vi kan oppnå. Videre skal vi utforske hvilke størrelser som skal til for å få et legeme i bane rundt jorda. Her kommer det til å bli gjort forenklinger, blandt annet å se bort fra luftmotstand. Deretter vil et nytt spørsmål melde seg: dersom vi har en krets tilsvarende railgun-en, vil vi få dielektrisk gjennomslag i lufta mellom lederne? Hva skal til for at dette enten skal skje, eller ikke skal skje?"
   ]
  },
  {
   "cell_type": "markdown",
   "metadata": {},
   "source": [
    "### Railgun"
   ]
  },
  {
   "cell_type": "markdown",
   "metadata": {},
   "source": [
    "Krafta på broen er gitt ved Lorentzkrafta\n",
    "\n",
    "$$\\vec{F}_b=q\\vec{v}\\times\\vec{B}$$\n",
    "\n",
    "hvor $\\vec{B}$ er det samlede magnetfeltet fra de to skinnene, som vi kan anse som uendelig lange ledninger, dersom skinnene er veldig lange. Feltet fra *en* leder er gitt ved Ampéres lov\n",
    "\n",
    "$$\\oint_C\\vec{B}\\,d\\vec{l}=\\mu_0I$$\n",
    "\n",
    "Fra Biot-Savarts lov\n",
    "\n",
    "$$d\\vec{B}=\\frac{\\mu_0}{4\\pi}\\frac{Id\\vec{l}\\times\\vec{R}}{R^3}$$\n",
    "\n",
    "ser vi at hvert bidrag må stå vinkelrett på både strømretningen og retningen vinkelrett på denne (her $\\vec{R}$).\n",
    "\n",
    "Siden vi har en uendelig lang leder, kan vi fra en symmetribetraktning se at feltet ikke kan ha noen komponent i parallell retning som hverken strømmen eller $\\vec{R}$. Altså må feltet ha en komponent i azimut retning, som er avhengig av avstanden $r$ fra lederen. Vi får at \n",
    "\n",
    "$$\\vec{B}=B_\\varphi(r)\\hat{\\varphi}$$\n",
    "\n",
    "Ampéres lov omhandler en lukket kurve og strømmen gjennom kurven. Kurven vi bruker er en sirkel med radius $r$. Vi får\n",
    "\n",
    "$$\\oint_CB_\\varphi(r)\\hat{\\varphi}dl\\hat{\\varphi}=\\mu_0I\\\\\n",
    "B_\\varphi(r)\\oint_Cdl=\\mu_0I\\\\\n",
    "B_\\varphi(r)\\cdot2\\pi r=\\mu_0I\\\\\n",
    "B_\\varphi(r)=\\frac{\\mu_0I}{2\\pi r}$$"
   ]
  },
  {
   "cell_type": "markdown",
   "metadata": {},
   "source": [
    "Heretter kommer vi ikke lenger til å bruke vektornotasjon. Dette er fordi kreftene fra magnetfeltet og bevegelsen til broen virker i kun én retning, langs skinnene."
   ]
  },
  {
   "cell_type": "markdown",
   "metadata": {},
   "source": [
    "Det neste steget er å undersøke hvilke krefter som virker på broen. Vi starter med å definere noen størrelser."
   ]
  },
  {
   "cell_type": "code",
   "execution_count": 1,
   "metadata": {},
   "outputs": [],
   "source": [
    "# importing necessary libraries \n",
    "\n",
    "import numpy as np\n",
    "import scipy.constants as const\n",
    "from astropy.constants import M_earth, R_earth\n",
    "import matplotlib.pyplot as plt\n",
    "from numba import njit"
   ]
  },
  {
   "cell_type": "code",
   "execution_count": 2,
   "metadata": {},
   "outputs": [],
   "source": [
    "D = .15 # separation of the rails [m]\n",
    "w = 0.1 # rail width [m]\n",
    "l = 10 # rail length [m]\n",
    "m = 1 # mass [kg]\n",
    "I = 10000 # current [Amps]"
   ]
  },
  {
   "cell_type": "markdown",
   "metadata": {},
   "source": [
    "Disse størrelsene er hentet fra [marinedepartementet](https://ndiastorage.blob.core.usgovcloudapi.net/ndia/2003/gun/ellis.pdf) i Amerika, hvor de har eksprimentert med railgun-er. Vi ser at bredden på skinnene er 10 cm. Broen som går mellom skinnene er 15 cm, og vil bli påvirket av magnetfeltet i mellom midtpunktet til begge skinnene."
   ]
  },
  {
   "cell_type": "markdown",
   "metadata": {},
   "source": [
    "Vi deler opp broen i infinetesemalt små lengder $dr$ med strømmen $I$ gjennom hele systemet. Det gir \n",
    "\n",
    "$$d\\vec{F}_b=Idr\\hat{r}\\times B(r)\\hat{\\varphi}\\\\\n",
    "=IB(r)dr\\hat{z}$$\n",
    "\n",
    "Vi integrerer over $r$ og finner den magnetiske krafta som virker på broen fra *en* skinne.\n",
    "\n",
    "$$\\vec{F}_b=\\int_{\\frac{w}{2}}^{D+\\frac{w}{2}}IB(r)dr\\hat{z}\\\\\n",
    "=\\frac{\\mu_0I^2}{2\\pi}\\int_{\\frac{w}{2}}^{D+\\frac{w}{2}}\\frac{1}{r}dr\\,\\hat{z}\\\\\n",
    "=\\frac{\\mu_0I^2}{2\\pi}\\ln{\\Bigg(\\frac{D+\\frac{w}{2}}{\\frac{w}{2}}\\Bigg)}\\,\\hat{z}\\\\\n",
    "=\\frac{\\mu_0I^2}{2\\pi}\\ln{\\bigg(\\frac{2D+w}{w}\\bigg)}\\,\\hat{z}\\\\\n",
    "=\\frac{\\mu_0I^2}{2\\pi}\\ln{\\bigg(\\frac{2D}{w}+1\\bigg)}\\,\\hat{z}$$\n",
    "\n",
    "Den totale krafta fra begge skinnene blir det dobbelte av dette, altså blir\n",
    "\n",
    "$$\\vec{F_b}=2\\frac{\\mu_0I^2}{2\\pi}\\ln{\\bigg(\\frac{2D}{w}+1\\bigg)}\\,\\hat{z}$$"
   ]
  },
  {
   "cell_type": "markdown",
   "metadata": {},
   "source": [
    "Vi definerer $\\frac{\\mu_0}{2\\pi}$ som en variabel $\\eta$, siden vi får bruk for den senere. "
   ]
  },
  {
   "cell_type": "code",
   "execution_count": 3,
   "metadata": {},
   "outputs": [
    {
     "name": "stdout",
     "output_type": "stream",
     "text": [
      "2.0000000010887514e-07\n"
     ]
    }
   ],
   "source": [
    "mu_0 = const.mu_0 # magnetic constant\n",
    "pi = const.pi\n",
    "eta = mu_0 / (2*pi)  # dimention: [mkg/(s^2 Amps^2)]\n",
    "print(eta)"
   ]
  },
  {
   "cell_type": "markdown",
   "metadata": {},
   "source": [
    "### Orbit-hastighet"
   ]
  },
  {
   "cell_type": "markdown",
   "metadata": {},
   "source": [
    "Nå må vi undersøke hvor stor hastighet vi må oppnå for å kunne gå i bane rundt jorda. La oss starte med å se på kreftene som vil virke på legemet vi skyter ut.\n",
    "\n",
    "Vi vet at dersom legemet skal gå i en sirkulær bane, må netto kraft gi en sentripetalakselerasjon.\n",
    "\n",
    "$$F_{net}=m\\frac{v^2}{R}$$\n",
    "\n",
    "hvor $m,v,R$ er hhv. legemets masse, fart og avstand fra jordas sentrum. Vi vet også at netto kraft som virker på legemet er jordas tyngdekraft. Den er gitt ved \n",
    "\n",
    "$$F_G=\\gamma\\frac{mM}{R^2}$$\n",
    "\n",
    "hvor $\\gamma,M$ er hhv. Newtons gravitasjonskonstant og jordas masse.\n",
    "\n",
    "Siden disse kreftene må være like, kan vi utlede et uttrykk for hastigheten vi trenger for å kunne gå i bane rundt jorda.\n",
    "\n",
    "$$F_{net}=F_G\\\\\n",
    "m\\frac{v^2}{R}=\\gamma\\frac{mM}{R^2}\\\\\n",
    "v^2=\\gamma\\frac{M}{R}\\\\\n",
    "v=\\sqrt{\\gamma\\frac{M}{R}}$$\n",
    "\n",
    "Vi ser altså at avstanden vår fra jordas sentrum avgjør hastigheten. Vi skal åpenbart ikke være i en avstand mindre enn dette, så vi kan omformulere uttrykket slik:\n",
    "\n",
    "$$v=\\sqrt{\\gamma\\frac{M}{R_j+h}}$$\n",
    "\n",
    "hvor $R_j, h$ er hhv. jordas radius og høyden over jordoverflaten."
   ]
  },
  {
   "cell_type": "code",
   "execution_count": 4,
   "metadata": {},
   "outputs": [],
   "source": [
    "gamma = const.G # Newtons gravitational constant\n",
    "M = M_earth.value # earth mass 5.97216787e+24 kg\n",
    "R_j = R_earth.value # earth radius 6378100 m"
   ]
  },
  {
   "cell_type": "markdown",
   "metadata": {},
   "source": [
    "La oss se hvilken hastighet legemet trenger å oppnå dersom det skytes ut 1 meter over jordoverflaten."
   ]
  },
  {
   "cell_type": "code",
   "execution_count": 5,
   "metadata": {},
   "outputs": [],
   "source": [
    "def v(h):\n",
    "    '''\n",
    "    Function to calculate velocity\n",
    "    for a given height h\n",
    "    '''\n",
    "    v = np.sqrt(gamma * M / (R_j + h))\n",
    "    return v"
   ]
  },
  {
   "cell_type": "code",
   "execution_count": 6,
   "metadata": {},
   "outputs": [
    {
     "name": "stdout",
     "output_type": "stream",
     "text": [
      "7905.387614656262\n"
     ]
    }
   ],
   "source": [
    "test_height = 1 # m\n",
    "test_velocity = v(test_height)\n",
    "\n",
    "print(test_velocity)"
   ]
  },
  {
   "cell_type": "markdown",
   "metadata": {},
   "source": [
    "Dette tallet er i enhet m/s. I en kilometer er det 1000 meter. I en time er det 60 sekunder ganger 60 minutter, så 3600 sekunder.  Vi går fra m/s til km/t ved å gange med $\\frac{3600}{1000}=3.6$"
   ]
  },
  {
   "cell_type": "code",
   "execution_count": 7,
   "metadata": {},
   "outputs": [
    {
     "name": "stdout",
     "output_type": "stream",
     "text": [
      "28459.395412762544\n"
     ]
    }
   ],
   "source": [
    "ms_to_kmh = 3.6 # converting factor from m/s to km/h\n",
    "\n",
    "print(test_velocity * ms_to_kmh)"
   ]
  },
  {
   "cell_type": "markdown",
   "metadata": {},
   "source": [
    "Vi trenger alstå en hastighet på omtrent 28 460 km/t for at et legeme med masse 1 kg, skutt ut i en høyde 1 m over bakken, skal gå i bane rundt jorda. La oss se kjapt på hva som skjer dersom vi skyter ut legemet i en høyde på 1 km."
   ]
  },
  {
   "cell_type": "code",
   "execution_count": 8,
   "metadata": {},
   "outputs": [
    {
     "name": "stdout",
     "output_type": "stream",
     "text": [
      "7904.768578158332\n",
      "28457.166881369998\n"
     ]
    }
   ],
   "source": [
    "test_height_2 = 1000 # 1 km\n",
    "test_velocity_2 = v(test_height_2)\n",
    "\n",
    "print(test_velocity_2)\n",
    "print(test_velocity_2 * ms_to_kmh)"
   ]
  },
  {
   "cell_type": "markdown",
   "metadata": {},
   "source": [
    "Det er tydelig at en høyde på 1 km ikke gjør stor forskjell. Dette er forenelig med at tyngdekrafta fra jorda er proporsjonal med $\\frac{1}{R^2}$. Videre vil vi bruke verdiene for høyden 1 km over bakken."
   ]
  },
  {
   "cell_type": "markdown",
   "metadata": {},
   "source": [
    "### Hvor stor hastighet får vi fra railgun-en?"
   ]
  },
  {
   "cell_type": "markdown",
   "metadata": {},
   "source": [
    "Nå skal vi modellere railgun-en. "
   ]
  },
  {
   "cell_type": "code",
   "execution_count": 9,
   "metadata": {},
   "outputs": [],
   "source": [
    "@njit\n",
    "def railgun(l, D, w, I, mass, dt):\n",
    "    '''\n",
    "    This function models the velocity an object with mass=mass gets from the forces applied \n",
    "    from the railgun with rail lengths=L, distance between rails=D, rail width=w and \n",
    "    current=I. The steplength=dt can be changed to better the accuracy.\n",
    "    '''\n",
    "    t = np.zeros(1) # time array\n",
    "    r = np.zeros(1) # position array\n",
    "    v = np.zeros(1) # velocity array\n",
    "    \n",
    "    bar_position = 0 # the bar connecting the two rails\n",
    "    \n",
    "    i = 0\n",
    "    \n",
    "    while r[i] < l:        \n",
    "        F_net = 2 * eta * (I**2) * (np.log(D + w/2) - np.log(w/2)) # Net force as derived above as F_b\n",
    "        a = F_net / mass # acceleration \n",
    "        \n",
    "        '''\n",
    "        Updating the velocity and position using Euler-Cromer. And the time array adding dt.\n",
    "        '''\n",
    "        v_new = v[i] + a * dt\n",
    "        v = np.append(v, v_new)\n",
    "        \n",
    "        r_new = r[i] + v[i+1] * dt\n",
    "        r = np.append(r, r_new)\n",
    "        \n",
    "        t_new = t[i] + dt     \n",
    "        t = np.append(t, t_new)\n",
    "        \n",
    "        i += 1\n",
    "    \n",
    "    return t, r, v"
   ]
  },
  {
   "cell_type": "code",
   "execution_count": 10,
   "metadata": {},
   "outputs": [
    {
     "name": "stdout",
     "output_type": "stream",
     "text": [
      "33.30211767868501\n"
     ]
    }
   ],
   "source": [
    "dt = 0.00001 # s\n",
    "\n",
    "t_test, r_test, v_test = railgun(l, D, w, I, m, dt)\n",
    "\n",
    "print(v_test[-1])"
   ]
  },
  {
   "cell_type": "markdown",
   "metadata": {},
   "source": [
    "Dette viser at med en strøm på 10 kA oppnår et legeme på 1 kg en hastighet på $\\sim$33.3 m/s. Vi trenger en hastighet på 7905 m/s. Vi må gjøre noen modifikasjoner."
   ]
  },
  {
   "cell_type": "markdown",
   "metadata": {},
   "source": [
    "La oss først se på hva som skjer om vi forlenger skinnene og endrer massen til 10 g."
   ]
  },
  {
   "cell_type": "code",
   "execution_count": 11,
   "metadata": {},
   "outputs": [
    {
     "name": "stdout",
     "output_type": "stream",
     "text": [
      "576.8093580887581\n"
     ]
    }
   ],
   "source": [
    "l_new = 3 * l # new length of rails is three times the old length\n",
    "m_new = m / 100  # new mass is set to 10 g\n",
    "\n",
    "t, r, v = railgun(l_new, D, w, I, m_new, dt)\n",
    "\n",
    "print(v[-1])"
   ]
  },
  {
   "cell_type": "markdown",
   "metadata": {},
   "source": [
    "Her når vi en mye større fart, på ~577 m/s. La oss se på hvordan posisjonen og hastigheten til broen ser ut som funksjon av tid."
   ]
  },
  {
   "cell_type": "code",
   "execution_count": 12,
   "metadata": {},
   "outputs": [
    {
     "data": {
      "text/plain": [
       "<matplotlib.legend.Legend at 0x2112e8bdfd0>"
      ]
     },
     "execution_count": 12,
     "metadata": {},
     "output_type": "execute_result"
    },
    {
     "data": {
      "image/png": "[encoded data removed]",
      "text/plain": [
       "<Figure size 864x576 with 2 Axes>"
      ]
     },
     "metadata": {
      "needs_background": "light"
     },
     "output_type": "display_data"
    }
   ],
   "source": [
    "fig, (ax1, ax2) = plt.subplots(2, 1, sharex=True, figsize=(12,8))\n",
    "\n",
    "ax1.set_title('Position and velocity as function of time')\n",
    "ax1.plot(t, r, 'r', label='Position')\n",
    "ax1.set_ylabel('Position [m]')\n",
    "ax1.legend(loc='lower right')\n",
    "\n",
    "ax2.plot(t, v, 'royalblue', label='Velocity')\n",
    "ax2.set_ylabel('Velocity [m/s]')\n",
    "ax2.set_xlabel('Time [s]')\n",
    "ax2.legend(loc='lower right')"
   ]
  },
  {
   "cell_type": "markdown",
   "metadata": {},
   "source": [
    "Disse plottene stemmer overens med konstant akselerasjon, som fører til lineær økning i hastighet, som igjen fører til eksponentiell økning i posisjon. Det er verdt å merke seg hvor liten tid det tar før legemet har forlatt broen. Vi kan se at legemet går fra 0 m/s til ~600 m/s på 0.1 sekund. Det tilsvarer en akselerasjon på ~6000 m/s^2. Det er et veldig usannsynlig tall. Det ville smelt godt når legemet bryter lydmuren på 1 Mach."
   ]
  },
  {
   "cell_type": "markdown",
   "metadata": {},
   "source": [
    "La oss nå se på hvor mye strøm vi trenger for å nå denne hastigheten på 28 460 m/s. Vi vet at dette vil kreve en god del strøm, så vi skrur opp startstrømmen til 100 kA og sjekker derfra."
   ]
  },
  {
   "cell_type": "code",
   "execution_count": 13,
   "metadata": {},
   "outputs": [
    {
     "name": "stdout",
     "output_type": "stream",
     "text": [
      "Parameters used to reach velocity of 7904.769 m/s:\n",
      "\n",
      "Rail length \t\t: 30.000 m\n",
      "Distance between rails \t: 0.150 m\n",
      "Width of rails \t\t: 0.100 m\n",
      "Current \t\t: 137494.068 Amps\n",
      "Mass \t\t\t: 0.01 kg\n",
      "Timestep \t\t: 1.000e-05 s\n",
      "Time it took for object to leave the barrel \t: 7.570e-03 s\n"
     ]
    }
   ],
   "source": [
    "v_goal = test_velocity_2 # the goal is set to the velocity we need for a distance 1 km above the ground\n",
    "v_test = 0\n",
    "I_new = I * 10 # starting current is I = 100 kAmps\n",
    "\n",
    "while v_test <= v_goal:\n",
    "    t, r, v = railgun(l_new, D, w, I_new, m_new, dt)\n",
    "    v_test = v[-1]\n",
    "    I_new *= 1.01 # we raise the current 1 % each time\n",
    "\n",
    "print(f'Parameters used to reach velocity of {v_goal:.3f} m/s:')\n",
    "print('')\n",
    "print(f'Rail length \\t\\t: {l_new:.3f} m')\n",
    "print(f'Distance between rails \\t: {D:.3f} m')\n",
    "print(f'Width of rails \\t\\t: {w:.3f} m')\n",
    "print(f'Current \\t\\t: {I_new/1.01:.3f} Amps')\n",
    "print(f'Mass \\t\\t\\t: {m_new:.3} kg')\n",
    "print(f'Timestep \\t\\t: {dt:.3e} s')\n",
    "print(f'Time it took for object to leave the barrel \\t: {t[-1]:.3e} s')"
   ]
  },
  {
   "cell_type": "markdown",
   "metadata": {},
   "source": [
    "Dette resultatet er veldig lovende. Vi ser at vi trenger en spenning på $\\sim$138 kA. Til sammenlikning klarte noen japanske forskere ved the National Institute for Fusion Science (NIFS) for over 5 år siden å oppnå en strøm på over 100 000 ampere, i følge [www.rt.com](https://www.rt.com/news/175968-japan-highest-electrical-current/). Dette er den høyeste strømmen som har blitt generert på jorda. De trengte en temperatur på -253 grader celsius. Vi skal tross alt bare generere omtrent 38 000 ampere mer enn det de klarte. I vårt tilfelle er dette kun teoretisk. Å oppnå dette er så godt som umulig, men det hjelper oss med å forstå fysikken i det."
   ]
  },
  {
   "cell_type": "markdown",
   "metadata": {},
   "source": [
    "### Omskriving av formler"
   ]
  },
  {
   "cell_type": "markdown",
   "metadata": {},
   "source": [
    "Til nå har vi brut integrasjon til å løse problemet vårt. Nå skal vi se på en annen måte å gjøre det på, som vil gi oss større frihet til å variere de forskjellige parameterne."
   ]
  },
  {
   "cell_type": "markdown",
   "metadata": {},
   "source": [
    "Ettersom at krafta fra railgun-en på broen er konstant, vil vi få en konstant akselerasjon gitt ved"
   ]
  },
  {
   "cell_type": "markdown",
   "metadata": {},
   "source": [
    "\\begin{align}\n",
    "F&=ma\\\\\n",
    "a&=\\frac{F}{m} \\tag{1}\n",
    "\\end{align}"
   ]
  },
  {
   "cell_type": "markdown",
   "metadata": {},
   "source": [
    "Ved konstant akselerasjon har vi bevegelseslikningen for hastighet. Vi løser for tiden og får"
   ]
  },
  {
   "cell_type": "markdown",
   "metadata": {},
   "source": [
    "\\begin{align}\n",
    "v&=at\\\\\n",
    "t&=\\frac{v}{a} \\tag{2}\n",
    "\\end{align}"
   ]
  },
  {
   "cell_type": "markdown",
   "metadata": {},
   "source": [
    "Videre har vi likningen for strekning. Den er"
   ]
  },
  {
   "cell_type": "markdown",
   "metadata": {},
   "source": [
    "$$s=v_0t+\\frac{1}{2}at^2$$"
   ]
  },
  {
   "cell_type": "markdown",
   "metadata": {},
   "source": [
    "Vi vet at broen starter fra ro, ved $t=0$. Altså er $v_0=0$. Vi får da "
   ]
  },
  {
   "cell_type": "markdown",
   "metadata": {},
   "source": [
    "$$s=\\frac{1}{2}at^2 \\tag{3}$$"
   ]
  },
  {
   "cell_type": "markdown",
   "metadata": {},
   "source": [
    "Vi setter $(2)$ inn i $(3)$ og får"
   ]
  },
  {
   "cell_type": "markdown",
   "metadata": {},
   "source": [
    "\\begin{align}\n",
    "s&=\\frac{1}{2}a\\Big(\\frac{v}{a}\\Big)^2\\\\\n",
    "s&=\\frac{v^2}{2a} \\tag{4}\n",
    "\\end{align}"
   ]
  },
  {
   "cell_type": "markdown",
   "metadata": {},
   "source": [
    "Her setter vi $(1)$ inn i $(4)$, som gir"
   ]
  },
  {
   "cell_type": "markdown",
   "metadata": {},
   "source": [
    "$$s=\\frac{mv^2}{2F} \\tag{5}$$"
   ]
  },
  {
   "cell_type": "markdown",
   "metadata": {},
   "source": [
    "Den eneste krafta som virker på broen er den magnetiske krafta $F_b$. $v$ er harstigheten vi ønsker å oppnå for å gå i bane rundt jorda. $m$ er massen, og $s$ er lengden på skinnene. "
   ]
  },
  {
   "cell_type": "markdown",
   "metadata": {},
   "source": [
    "Vi setter $v=v_o,F=F_b, s=\\ell$ for orbit-hastighet, kraft og lengde på skinnene. Vi får da likningen"
   ]
  },
  {
   "cell_type": "markdown",
   "metadata": {},
   "source": [
    "\\begin{align}\n",
    "\\ell&=\\frac{mv_o^2}{2F_b}\\\\\n",
    "&=\\frac{mv_o^2}{2\\frac{\\mu_oI^2}{\\pi}\\ln\\Big(\\frac{2D}{w}+1\\Big)}\\\\\n",
    "\\pi mv_o^2&=2\\mu_0I^2\\ln\\Big(\\frac{2D}{w}+1\\Big)\\cdot \\ell\n",
    "\\end{align}"
   ]
  },
  {
   "cell_type": "markdown",
   "metadata": {},
   "source": [
    "Her har vi konstantene $\\pi, v_o^2, 2\\mu_0$, som vi kan samle til én konstant"
   ]
  },
  {
   "cell_type": "markdown",
   "metadata": {},
   "source": [
    "$$\\kappa=\\frac{2\\mu_0}{\\pi v_o^2}$$"
   ]
  },
  {
   "cell_type": "markdown",
   "metadata": {},
   "source": [
    "Vi sitter nå igjen med formelen"
   ]
  },
  {
   "cell_type": "markdown",
   "metadata": {},
   "source": [
    "$$m=\\kappa I^2\\ln\\Big(\\frac{2D}{w}+1\\Big)\\cdot \\ell \\tag{6}$$"
   ]
  },
  {
   "cell_type": "code",
   "execution_count": 14,
   "metadata": {},
   "outputs": [
    {
     "name": "stdout",
     "output_type": "stream",
     "text": [
      "1.2802997695883152e-14\n"
     ]
    }
   ],
   "source": [
    "# defining kappa\n",
    "v_o = v_goal\n",
    "kappa = 2 * mu_0 / (pi * v_o**2) # dimention: [kg/(Amps^2 s)]\n",
    "print(kappa)"
   ]
  },
  {
   "cell_type": "markdown",
   "metadata": {},
   "source": [
    "Fra likning $(6)$ ser vi at vi kan variere massen til legemet, lengden og tykkelsen på skinnene, strømmen og avstanden mellom skinnene fritt. La oss starte med å se på noen forskjellige masser."
   ]
  },
  {
   "cell_type": "code",
   "execution_count": 15,
   "metadata": {},
   "outputs": [
    {
     "name": "stdout",
     "output_type": "stream",
     "text": [
      "[  1.  12.  23.  34.  45.  56.  67.  78.  89. 100.]\n"
     ]
    }
   ],
   "source": [
    "mass_list = np.linspace(1, 100, 10) # list of masses we want to test for\n",
    "print(mass_list)"
   ]
  },
  {
   "cell_type": "markdown",
   "metadata": {},
   "source": [
    "Vi bruker $(6)$ til å finne et utrykk for $I$."
   ]
  },
  {
   "cell_type": "markdown",
   "metadata": {},
   "source": [
    "$$I=\\sqrt{\\frac{m}{\\kappa\\ln\\Big(\\frac{2D}{w}+1\\Big)\\cdot \\ell}}$$"
   ]
  },
  {
   "cell_type": "markdown",
   "metadata": {},
   "source": [
    "Det vi kan se fra denne formelen er at en stor $w$ og liten $D$ vil gi oss størst strøm. Vi endrer bredden på skinnene til $w=0.05\\,m$ og avstanden mellom dem til $D=0.5\\,m$. Lengden $\\ell$ holder vi på $30\\,m$."
   ]
  },
  {
   "cell_type": "code",
   "execution_count": 16,
   "metadata": {},
   "outputs": [],
   "source": [
    "D = 0.5 # m\n",
    "w = 0.05 # m\n",
    "l = 30. # m"
   ]
  },
  {
   "cell_type": "code",
   "execution_count": 17,
   "metadata": {},
   "outputs": [],
   "source": [
    "def current(m, D, w, l):\n",
    "    I_list = np.zeros(len(m))\n",
    "    \n",
    "    for i in range(len(m)):\n",
    "        I_list[i] = np.sqrt(m[i] / (kappa * np.log(2*D / w + 1) * l))\n",
    "    \n",
    "    return I_list"
   ]
  },
  {
   "cell_type": "code",
   "execution_count": 18,
   "metadata": {},
   "outputs": [
    {
     "data": {
      "text/plain": [
       "[<matplotlib.lines.Line2D at 0x2112ed5c670>]"
      ]
     },
     "execution_count": 18,
     "metadata": {},
     "output_type": "execute_result"
    },
    {
     "data": {
      "image/png": "[encoded data removed]",
      "text/plain": [
       "<Figure size 648x504 with 1 Axes>"
      ]
     },
     "metadata": {
      "needs_background": "light"
     },
     "output_type": "display_data"
    }
   ],
   "source": [
    "I_list = current(mass_list, D, w, l)\n",
    "\n",
    "plt.figure(figsize=(9,7))\n",
    "plt.title('Current needed for different masses')\n",
    "plt.xlabel('Mass [kg]')\n",
    "plt.ylabel('Current [Amps]')\n",
    "plt.plot(mass_list, I_list, 'ok', markersize='3')"
   ]
  },
  {
   "cell_type": "code",
   "execution_count": 19,
   "metadata": {},
   "outputs": [
    {
     "name": "stdout",
     "output_type": "stream",
     "text": [
      "Current needed:\n",
      "\n",
      "Masses[kg]\t Current[kA]\n",
      "\n",
      "1\t\t 924.749\n",
      "12\t\t 3203.425\n",
      "23\t\t 4434.941\n",
      "34\t\t 5392.168\n",
      "45\t\t 6203.406\n",
      "56\t\t 6920.189\n",
      "67\t\t 7569.398\n",
      "78\t\t 8167.164\n",
      "89\t\t 8724.066\n",
      "100\t\t 9247.492\n"
     ]
    }
   ],
   "source": [
    "print('Current needed:')\n",
    "print('')\n",
    "print('Masses[kg]\\t Current[kA]')\n",
    "print('')\n",
    "\n",
    "for m, i in zip(mass_list, I_list):\n",
    "    print(f'{m:.0f}\\t\\t {i/1000:.3f}')"
   ]
  },
  {
   "cell_type": "markdown",
   "metadata": {},
   "source": [
    "Her ser vi at vi fort trenger enormt mye strøm for å få legemet i bane. 100 kg krever over 9 MA, som er 9 millioner ampere. Grunnen til at vi ser på dette er at vi vil undersøke dielektrisk sammenbrudd i lufta mellom skinnene."
   ]
  },
  {
   "cell_type": "markdown",
   "metadata": {},
   "source": [
    "### Dielektrisk sammenbrudd"
   ]
  },
  {
   "cell_type": "markdown",
   "metadata": {},
   "source": [
    "Et materiale som skal hindre at det går strøm igjennom det, kalles en isolator. Alle materialer har noen frie ladningsbærere selv om de har veldig høy resistivitet og er gode isolatorer. Det vil si at dersom tilstrekkelig høy spenning blir påført dem, vil de lede strøm. Når dette skjer blir materialet ionisert, altså blir elektronene revet vekk fra atomkjernen. Gassen er nå blitt plasma, fullt av frie ladningsbærere. Spenningen lades ut ved å sende ladning gjennom plasmaet. "
   ]
  },
  {
   "cell_type": "markdown",
   "metadata": {},
   "source": [
    "I vår situasjon kan vi godt tenkes at spenningen blir så høy at vi opplever elektrisk gjennomslag. Til nå har vi ikke tatt motstanden i materialet railgun-en er satt sammen av med i beregningene. For å finne den, kan vi bruke følgende formel:"
   ]
  },
  {
   "cell_type": "markdown",
   "metadata": {},
   "source": [
    "$$R=\\frac{\\rho\\ell}{A}$$"
   ]
  },
  {
   "cell_type": "markdown",
   "metadata": {},
   "source": [
    "hvor $A$ er tversnittarealet til materialet, $\\rho$ er resistiviteten og $\\ell$ er lengden til materialet."
   ]
  },
  {
   "cell_type": "markdown",
   "metadata": {},
   "source": [
    "Merk at her bruker vi lengden $\\ell$ når broen har nådd enden av skinnene. Egentlig vil resistansen bli en funksjon av posisjonen til broen, men vi forenkler systemet til å se på elektrisk gjennomslag når broen har nådd enden av skinnene."
   ]
  },
  {
   "cell_type": "markdown",
   "metadata": {},
   "source": [
    "Vi ser på nå et system som kun fører strøm i en krets. Railgun-ens evne til å skyte legemer i bane er ikke lenger like god, ettersom at atmosfæren vil bremse legemene og tilslutt vil de falle til jorden. Vi bruker likevel de størrelsene vi har regnet oss frem til, bare for å se hva som skal til for å få dielektrisk gjennombrudd i lufta mellom skinnene."
   ]
  },
  {
   "cell_type": "markdown",
   "metadata": {},
   "source": [
    "Resistiviteten til noen ulike metaller:"
   ]
  },
  {
   "cell_type": "code",
   "execution_count": 20,
   "metadata": {},
   "outputs": [],
   "source": [
    "resist_values = np.array([1.72, 7., 10., 22.]) * 1e-8 # resistivity in [ohm * m]\n",
    "resist_names = np.array(['Copper', 'Brass', 'Iron', 'Led']) # names of metals"
   ]
  },
  {
   "cell_type": "code",
   "execution_count": 21,
   "metadata": {},
   "outputs": [],
   "source": [
    "A = w**2 # cross section area\n",
    "def resistance(resistivity, A, l): # same values as before, in addition to cross section area of the rails\n",
    "    R = resistivity * l / A\n",
    "    return R"
   ]
  },
  {
   "cell_type": "code",
   "execution_count": 22,
   "metadata": {},
   "outputs": [
    {
     "name": "stdout",
     "output_type": "stream",
     "text": [
      "Resistances for different metals:\n",
      "\n",
      "Metals \t Resistance [ohm]\n",
      "\n",
      "Copper \t 2.06e-04\n",
      "Brass \t 8.40e-04\n",
      "Iron \t 1.20e-03\n",
      "Led \t 2.64e-03\n"
     ]
    }
   ],
   "source": [
    "print('Resistances for different metals:')\n",
    "print('')\n",
    "print('Metals \\t Resistance [ohm]')\n",
    "print('')\n",
    "for v, n in zip(resist_values, resist_names):\n",
    "    R = resistance(v, A, l)\n",
    "    print(f'{n} \\t {R:.2e}')"
   ]
  },
  {
   "cell_type": "markdown",
   "metadata": {},
   "source": [
    "En viktig ting å merke seg her, er at disse tallene gjelder for metaller i perfekt tilstand. Det vil si at de ikke kan ha noen skader eller uregelmessigheter på overflaten eller innad. Dette er ikke reelt, men vi bruker disse verdiene kun for et teoretisk tilfelle."
   ]
  },
  {
   "cell_type": "markdown",
   "metadata": {},
   "source": [
    "Nå som vi har motstanden for metallet railgun-en består av kan vi anse systemet som en krets. Begge skinnene og broen består av det samme materialet. Begge skinnene vil ha den samme motstanden, mens broen vil ha en mindre motstand siden den er kortere. Vi kan samle alt til én motstand ved\n",
    "\n",
    "$$R=\\sum_iR_i$$"
   ]
  },
  {
   "cell_type": "markdown",
   "metadata": {},
   "source": [
    "<figure>\n",
    "    <img src=\"railgun_circuit_resistance.png\" style=\"width:75%\">\n",
    "    <center><figcaption><b> Figur 2. Til venstre: en krets med tre motstander. Til høyre: de tre motstandene samlet til én motstand.</b></figcaption></center>\n",
    "</figure>"
   ]
  },
  {
   "cell_type": "markdown",
   "metadata": {},
   "source": [
    "La oss se på tilfellet med en masse på 100 kg og en railgun bygd av bly."
   ]
  },
  {
   "cell_type": "code",
   "execution_count": 23,
   "metadata": {},
   "outputs": [],
   "source": [
    "m = mass_list[9] # 100 kg\n",
    "I = I_list[9] # ~9 MAmps\n",
    "metal = resist_names[3] # led\n",
    "rho = resist_values[3] # resistivity for led\n",
    "R = 2 * resistance(rho, A, l) + resistance(rho, A, D) # resistance for both rails and the bridge"
   ]
  },
  {
   "cell_type": "markdown",
   "metadata": {},
   "source": [
    "Fra Ohms lov vet vi at vi kan finne spenningen i en krets ved"
   ]
  },
  {
   "cell_type": "markdown",
   "metadata": {},
   "source": [
    "$$V=RI$$"
   ]
  },
  {
   "cell_type": "code",
   "execution_count": 24,
   "metadata": {},
   "outputs": [],
   "source": [
    "def voltage(R, I):\n",
    "    '''Ohm's law'''\n",
    "    V = R * I\n",
    "    return V"
   ]
  },
  {
   "cell_type": "code",
   "execution_count": 25,
   "metadata": {},
   "outputs": [
    {
     "name": "stdout",
     "output_type": "stream",
     "text": [
      "49233.64572421336\n"
     ]
    }
   ],
   "source": [
    "V = voltage(R, I)\n",
    "print(V)"
   ]
  },
  {
   "cell_type": "markdown",
   "metadata": {},
   "source": [
    "På [Wikipedia](https://en.wikipedia.org/wiki/Dielectric_strength) finner vi en liste over terskelspenningen til ulike gasser. Vi leser av at grensen er på $3\\,MV/m$, for luft. Vi har en avstand på en halv meter, så det gir oss terskelspenningen $6\\,MV$"
   ]
  },
  {
   "cell_type": "code",
   "execution_count": 26,
   "metadata": {},
   "outputs": [],
   "source": [
    "V_limit = 6e6 # V"
   ]
  },
  {
   "cell_type": "markdown",
   "metadata": {},
   "source": [
    "I vårt eksperiment oppnår vi en spenning på $\\sim50\\,kV$. Vi har at strømmen er konstant, men vi kan endre $R$. Vi ser på hvilken motstand vi trenger i kretsen for å oppnå terskelspenningen."
   ]
  },
  {
   "cell_type": "code",
   "execution_count": 27,
   "metadata": {},
   "outputs": [],
   "source": [
    "def resistance_needed(V):\n",
    "    R_needed = V / I - R\n",
    "    return R_needed"
   ]
  },
  {
   "cell_type": "code",
   "execution_count": 28,
   "metadata": {},
   "outputs": [
    {
     "name": "stdout",
     "output_type": "stream",
     "text": [
      "0.6435005899752609\n"
     ]
    }
   ],
   "source": [
    "R_needed = resistance_needed(V_limit)\n",
    "print(R_needed)"
   ]
  },
  {
   "cell_type": "markdown",
   "metadata": {},
   "source": [
    "Fra dette ser vi at vi trenger en tilleggsmotstand på $\\sim 6.4\\, d\\Omega$. Dette er altså minstekravet, så vi legger til en motstand på $1\\,\\Omega$. Kretsen blir seende slik ut:"
   ]
  },
  {
   "cell_type": "markdown",
   "metadata": {},
   "source": [
    "<figure>\n",
    "    <img src=\"railgun_variable_resistance.png\" style=\"width:50%\">\n",
    "    <center><figcaption><b> Figur 3. Vi kobler en variabel motstand $R_v$ i serie med den samlede motstanden fra skinnene og broen. </b></figcaption></center>\n",
    "</figure>"
   ]
  },
  {
   "cell_type": "code",
   "execution_count": 29,
   "metadata": {},
   "outputs": [
    {
     "name": "stdout",
     "output_type": "stream",
     "text": [
      "9296725.32946076\n"
     ]
    }
   ],
   "source": [
    "R_v = R +1. # [ohm]\n",
    "Voltage = voltage(R_v, I)\n",
    "print(Voltage)"
   ]
  },
  {
   "cell_type": "markdown",
   "metadata": {},
   "source": [
    "Vi har oppnådd en spenning på over $9\\,MV$, som er mer enn nok til å kunne forvente elektrisk gjennombrudd. "
   ]
  },
  {
   "cell_type": "markdown",
   "metadata": {},
   "source": [
    "### Konklusjon"
   ]
  },
  {
   "cell_type": "markdown",
   "metadata": {},
   "source": [
    "Dersom vi kunne generere så høy strøm vi ønsket og luftmotsdanden i atmosfæren til jorda var neglisjerbar, kunne vi enkelt brukt det magnetiske feltet generert rundt en elektrisk leder til å skyte legemer i bane rundt jorda. Det er også tydelig at forenklinger som ingen friksjon mellom skinnene og broen og tilnærmet perfekte metaller gjør at spenningen ikke ville blitt høy nok til å se dielektrisk gjennombrudd i lufta mellom skinnene. Dette kunne vi likevel få til ved å introdusere en ny variabel motstand som kunne kobles i serie med skinnene."
   ]
  },
  {
   "cell_type": "markdown",
   "metadata": {},
   "source": [
    "### Kilder"
   ]
  },
  {
   "cell_type": "markdown",
   "metadata": {},
   "source": [
    "Odden, T.O. (u.å). *How much electric current would you need to use a railgun to launch a package up to the ISS?*. University of Oslo Computational Essay Showroom. [https://uio-ccse.github.io/computational-essay-showroom/essays/exampleessays/railgun_TOO/Railgun_V1_9.html](https://uio-ccse.github.io/computational-essay-showroom/essays/exampleessays/railgun_TOO/Railgun_V1_9.html)\n",
    "\n",
    "Ellis, R. (2003, mars). *Exploring the Possibilities of a Naval Electromagnetic Rail Gun*. Presentasjon av NAVSEA.\n",
    "\n",
    "Caronna, M. (2017, 27. juli). 100,000 amps breakthrough: Highest electrical current achieved in Japan. *RT*. [https://www.rt.com/news/175968-japan-highest-electrical-current/](https://www.rt.com/news/175968-japan-highest-electrical-current/)\n",
    "\n",
    "Elektrisk gjennomslag. (2020, 24. august). I *Wikipedia*. [https://no.wikipedia.org/wiki/Elektrisk_gjennomslag](https://no.wikipedia.org/wiki/Elektrisk_gjennomslag)\n",
    "\n",
    "Electrical breakdown. (2021, 4. november). I *Wikipedia*. [https://en.wikipedia.org/wiki/Electrical_breakdown](https://en.wikipedia.org/wiki/Electrical_breakdown)\n",
    "\n",
    "Electrical resistivity and conductivity. (2021, 15. november). i *Wikipedia*. [https://en.wikipedia.org/wiki/Electrical_resistivity_and_conductivity](https://en.wikipedia.org/wiki/Electrical_resistivity_and_conductivity)\n",
    "\n",
    "Dielectric strength. (2021, 2. oktober). I *Wikipedia*. [https://en.wikipedia.org/wiki/Dielectric_strength](https://en.wikipedia.org/wiki/Dielectric_strength)"
   ]
  },
  {
   "cell_type": "code",
   "execution_count": null,
   "metadata": {},
   "outputs": [],
   "source": []
  }
 ],
 "metadata": {
  "kernelspec": {
   "display_name": "Python 3",
   "language": "python",
   "name": "python3"
  },
  "language_info": {
   "codemirror_mode": {
    "name": "ipython",
    "version": 3
   },
   "file_extension": ".py",
   "mimetype": "text/x-python",
   "name": "python",
   "nbconvert_exporter": "python",
   "pygments_lexer": "ipython3",
   "version": "3.8.3"
  }
 },
 "nbformat": 4,
 "nbformat_minor": 4
}
