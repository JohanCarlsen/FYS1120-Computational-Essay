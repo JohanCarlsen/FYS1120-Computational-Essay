{
 "cells": [
  {
   "cell_type": "markdown",
   "metadata": {},
   "source": [
    "# Er det mulig å skyte et legeme i bane rundt jorda, med en railgun? Og hva skal til for å få det til?"
   ]
  },
  {
   "cell_type": "markdown",
   "metadata": {},
   "source": [
    "### Introduksjon: Hvordan fungerer en railgun?"
   ]
  },
  {
   "cell_type": "markdown",
   "metadata": {},
   "source": [
    "En railgun er en elektrisk kanon som akselererer et prosjektil til veldig store hastigheter ved hjelp av et magnetfelt og elektrisk strøm. Railgun-en fungerer ved at to parallelle ledende skinner er koblet til en spenningskilde. Skinnene er igjen koblet sammen med en ledende bro som kan bevege seg normalt mellom de to skinnene. Strømmen går fra spenningskilden, gjennom den ene skinna, gjennom broen videre gjennom den andre skinna og tilbake til spenningskilden igjen."
   ]
  },
  {
   "cell_type": "markdown",
   "metadata": {},
   "source": [
    "# Fig 1 ill. av systemet"
   ]
  },
  {
   "cell_type": "markdown",
   "metadata": {},
   "source": [
    "Strøm, eller ladninger i bevegelse, skaper et magnetfelt. Dette feltet er høyrehåndsorientert, som vist i Figur 1. Krafta som virker på broen kommer fra retningen strømmen beveger seg i og magnetfeltets retning. Fra Figur 1 kan vi se at krafta virker vinkelrett på både strømmens retning og magnetfeltet. Denne krafta vil akselerere broen langs skinnene, og det er dette vi skal bruke for å prøve å skyte et legeme i bane rundt jorda. "
   ]
  },
  {
   "cell_type": "markdown",
   "metadata": {},
   "source": [
    "### Problemstilling"
   ]
  },
  {
   "cell_type": "markdown",
   "metadata": {},
   "source": [
    "Det første vi skal se på er hvordan en railgun fungerer, og hvilke hastigheter vi kan få legemer med ulike masser til å oppnå. Videre skal vi utforske hvilke størrelser som skal til for å få et legeme i bane rundt jorda. Her kommer det til å bli gjort forenklinger, blandt annet å se bort fra luftmotstand. Hvorfor kommer vi tilbake til senere. Deretter vil et nytt spørsmål melde seg: hvor stor avstand trenger vi å ha mellom skinnene, for å unngå dielektrisk gjennombrudd av strøm i lufta mellom skinnene? "
   ]
  },
  {
   "cell_type": "markdown",
   "metadata": {},
   "source": [
    "#### Railgun"
   ]
  },
  {
   "cell_type": "markdown",
   "metadata": {},
   "source": [
    "Krafta på broen er gitt ved \n",
    "\n",
    "$$\\vec{F}_b=q\\vec{v}\\times\\vec{B}$$\n",
    "\n",
    "hvor $\\vec{B}$ er det samlede magnetfeltet fra de to skinnene, som vi kan anse som uendelig lange ledninger, dersom skinnene er veldig lange. Feltet fra *en* leder er gitt ved Ampéres lov\n",
    "\n",
    "$$\\oint_C\\vec{B}\\,d\\vec{l}=\\mu_0I$$\n",
    "\n",
    "Fra Biot-Savarts lov\n",
    "\n",
    "$$d\\vec{B}=\\frac{\\mu_0}{4\\pi}\\frac{Id\\vec{l}\\times\\vec{R}}{R^3}$$\n",
    "\n",
    "ser vi at hvert bidrag må stå vinkelrett på både strømretningen og retningen vinkelrett på denne (her $\\vec{R}$).\n",
    "\n",
    "Siden vi har en uendelig lang leder, kan vi fra en symmetribetraktning se at feltet ikke kan ha noen komponent i parallell retning som hverken strømmen eller $\\vec{R}$. Altså må feltet ha en komponent i azimut retning, som er avhengig av avstanden $r$ fra lederen. Vi får at \n",
    "\n",
    "$$\\vec{B}=B_\\varphi(r)\\hat{\\varphi}$$\n",
    "\n",
    "Ampéres lov omhandler en lukket kurve og strømmen gjennom kurven. Kurven vi bruker er en sirkel med radius $r$. Vi får\n",
    "\n",
    "$$\\oint_CB_\\varphi(r)\\hat{\\varphi}dl\\hat{\\varphi}=\\mu_0I\\\\\n",
    "B_\\varphi(r)\\oint_Cdl=\\mu_0I\\\\\n",
    "B_\\varphi(r)\\cdot2\\pi r=\\mu_0I\\\\\n",
    "B_\\varphi(r)=\\frac{\\mu_0I}{2\\pi r}$$"
   ]
  },
  {
   "cell_type": "markdown",
   "metadata": {},
   "source": [
    "Det neste steget er å undersøke hvilke krefter som virker på broen. Vi starter med å definere noen størrelser."
   ]
  },
  {
   "cell_type": "code",
   "execution_count": 1,
   "metadata": {},
   "outputs": [],
   "source": [
    "D = .15 # separation of the rails [m]\n",
    "w = 0.1 # rail width [m]\n",
    "L = 10 # rail length [m]\n",
    "m = 1 # mass [kg]\n",
    "I = 10000 # current [Amps]\n",
    "\n",
    "dt= .00001 # timestep [s]\n",
    "t=0 # [s]"
   ]
  },
  {
   "cell_type": "markdown",
   "metadata": {},
   "source": [
    "Disse størrelsene er hentet fra [marinedepartementet](https://ndiastorage.blob.core.usgovcloudapi.net/ndia/2003/gun/ellis.pdf) i Amerika, hvor de har eksprimentert med railgun-er. Vi ser at bredden på skinnene er 10 cm. Broen som går mellom skinnene er 15 cm, og vil bli påvirket av magnetfeltet i mellom midtpunktet til begge skinnene."
   ]
  },
  {
   "cell_type": "markdown",
   "metadata": {},
   "source": [
    "# fig 2. figur med størrelser og silkt"
   ]
  },
  {
   "cell_type": "markdown",
   "metadata": {},
   "source": [
    "Vi deler opp broen i infinetesemalt små lengder $dr$ med strømmen $I$ gjennom hele systemet. Det gir \n",
    "\n",
    "$$d\\vec{F}_b=Idr\\hat{r}\\times B(r)\\hat{\\varphi}\\\\\n",
    "=IB(r)dr\\hat{z}$$\n",
    "\n",
    "Vi integrerer over $r$ og finner den magnetiske krafta som virker på broen fra *en* skinne.\n",
    "\n",
    "$$\\vec{F}_b=\\int_{\\frac{w}{2}}^{D+\\frac{w}{2}}IB(r)dr\\hat{z}\\\\\n",
    "=\\frac{\\mu_0I^2}{2\\pi}\\int_{\\frac{w}{2}}^{D+\\frac{w}{2}}\\frac{1}{r}dr\\\\\n",
    "=\\frac{\\mu_0I^2}{2\\pi}\\ln{\\Bigg(\\frac{D+\\frac{w}{2}}{\\frac{w}{2}}\\Bigg)}\\\\\n",
    "=\\frac{\\mu_0I^2}{2\\pi}\\ln{\\bigg(\\frac{2D+w}{w}\\bigg)}\\\\\n",
    "=\\frac{\\mu_0I^2}{2\\pi}\\ln{\\bigg(\\frac{2D}{w}+1\\bigg)}$$\n",
    "\n",
    "Den totale krafta fra begge skinnene blir det dobbelte av dette, altså blir\n",
    "\n",
    "$$\\vec{F_b}=2\\frac{\\mu_0I^2}{2\\pi}\\ln{\\bigg(\\frac{2D}{w}+1\\bigg)}$$"
   ]
  },
  {
   "cell_type": "markdown",
   "metadata": {},
   "source": [
    "Vi definerer $\\frac{\\mu_0}{2\\pi}$ som en variabel $\\eta$, siden vi får bruk for den senere. "
   ]
  },
  {
   "cell_type": "code",
   "execution_count": 1,
   "metadata": {},
   "outputs": [],
   "source": [
    "import scipy.constants as const\n",
    "mu0 = const.mu_0\n",
    "pi = const.pi\n",
    "eta = mu0 / (2*pi) # magnetic constant"
   ]
  },
  {
   "cell_type": "markdown",
   "metadata": {},
   "source": [
    "#### Orbit-hastighet"
   ]
  },
  {
   "cell_type": "markdown",
   "metadata": {},
   "source": [
    "Nå må vi undersøke hvor stor hastighet vi må oppnå for å kunne gå i bane rundt jorda. La oss starte med å se på kreftene som vil virke på legemet vi skyter ut.\n",
    "\n",
    "Vi vet at dersom legemet skal gå i en sirkulær bane, må netto kraft gi en sentripetalakselerasjon.\n",
    "\n",
    "$$F_{net}=m\\frac{v^2}{R}$$\n",
    "\n",
    "hvor $m,v,R$ er hhv. legemets masse, fart og avstand fra jordas sentrum. Vi vet også at netto kraft som virker på legemet er jordas tyngdekraft. Den er gitt ved \n",
    "\n",
    "$$F_G=\\gamma\\frac{mM}{R^2}$$\n",
    "\n",
    "hvor $\\gamma,M$ er hhv. Newtons gravitasjonskonstant og jordas masse.\n",
    "\n",
    "Siden disse kreftene må være like, kan vi utlede et uttrykk for hastigheten vi trenger for å kunne gå i bane rundt jorda.\n",
    "\n",
    "$$F_{net}=F_G\\\\\n",
    "m\\frac{v^2}{R}=\\gamma\\frac{mM}{R^2}\\\\\n",
    "v^2=\\gamma\\frac{M}{R}\\\\\n",
    "v=\\sqrt{\\gamma\\frac{M}{R}}$$\n",
    "\n",
    "Vi ser altså at avstanden vår fra jordas sentrum avgjør hastigheten. Vi skal åpenbart ikke være i en avstand mindre enn dette, så vi kan omformulere uttrykket slik:\n",
    "\n",
    "$$v=\\sqrt{\\gamma\\frac{M}{R_j+h}}$$\n",
    "\n",
    "hvor $R_j, h$ er hhv. jordas radius og høyden over jordoverflaten."
   ]
  },
  {
   "cell_type": "code",
   "execution_count": 12,
   "metadata": {},
   "outputs": [],
   "source": [
    "from astropy.constants import M_earth, R_earth\n",
    "gamma = const.G # Newtons gravitational constant\n",
    "M = M_earth.value # earth mass 5.97216787e+24 kg\n",
    "R_j = R_earth.value # earth radius 6378100 m"
   ]
  },
  {
   "cell_type": "markdown",
   "metadata": {},
   "source": [
    "La oss se hvilken hastighet legemet trenger å oppnå dersom det skytes ut 1 meter over jordoverflaten."
   ]
  },
  {
   "cell_type": "code",
   "execution_count": 13,
   "metadata": {},
   "outputs": [],
   "source": [
    "import numpy as np\n",
    "\n",
    "def v(h):\n",
    "    '''\n",
    "    Function to calculate velocity\n",
    "    for a given height h\n",
    "    '''\n",
    "    v = np.sqrt(gamma * M / (R_j + h))\n",
    "    return v"
   ]
  },
  {
   "cell_type": "code",
   "execution_count": 16,
   "metadata": {},
   "outputs": [
    {
     "name": "stdout",
     "output_type": "stream",
     "text": [
      "7905.387614656262\n"
     ]
    }
   ],
   "source": [
    "test_height = 1 # m\n",
    "test_velocity = v(test_height)\n",
    "\n",
    "print(test_velocity)"
   ]
  },
  {
   "cell_type": "markdown",
   "metadata": {},
   "source": [
    "Dette tallet er i enhet m/s. I en kilometer er det 1000 meter. I en time er det 60 sekunder ganger 60 minutter, så 3600 sekunder.  Vi går fra m/s til km/t ved å gange med $\\frac{3600}{1000}=3.6$"
   ]
  },
  {
   "cell_type": "code",
   "execution_count": 17,
   "metadata": {},
   "outputs": [
    {
     "name": "stdout",
     "output_type": "stream",
     "text": [
      "28459.395412762544\n"
     ]
    }
   ],
   "source": [
    "ms_to_kmh = 3.6 # converting factor from m/s to km/h\n",
    "\n",
    "print(test_velocity * ms_to_kmh)"
   ]
  },
  {
   "cell_type": "markdown",
   "metadata": {},
   "source": [
    "Vi trenger alstå en hastighet på omtrent 28 460 km/t for at et legeme med masse 1 kg, skutt ut i en høyde 1 m over bakken, skal gå i bane rundt jorda. La oss se kjapt på hva som skjer dersom vi skyter ut legemet i en høyde på 1 km."
   ]
  },
  {
   "cell_type": "code",
   "execution_count": 21,
   "metadata": {},
   "outputs": [
    {
     "name": "stdout",
     "output_type": "stream",
     "text": [
      "7904.768578158332\n",
      "28457.166881369998\n"
     ]
    }
   ],
   "source": [
    "test_height_2 = 1000 # 1 km\n",
    "test_velocity_2 = v(test_height_2)\n",
    "\n",
    "print(test_velocity_2)\n",
    "print(test_velocity_2 * ms_to_kmh)"
   ]
  },
  {
   "cell_type": "markdown",
   "metadata": {},
   "source": [
    "Det er tydelig at en høyde på 1 km ikke gjør stor forskjell."
   ]
  },
  {
   "cell_type": "code",
   "execution_count": null,
   "metadata": {},
   "outputs": [],
   "source": []
  }
 ],
 "metadata": {
  "kernelspec": {
   "display_name": "Python 3",
   "language": "python",
   "name": "python3"
  },
  "language_info": {
   "codemirror_mode": {
    "name": "ipython",
    "version": 3
   },
   "file_extension": ".py",
   "mimetype": "text/x-python",
   "name": "python",
   "nbconvert_exporter": "python",
   "pygments_lexer": "ipython3",
   "version": "3.8.3"
  }
 },
 "nbformat": 4,
 "nbformat_minor": 4
}
